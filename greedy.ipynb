{
 "cells": [
  {
   "cell_type": "code",
   "execution_count": 3,
   "metadata": {},
   "outputs": [],
   "source": [
    "import random\n",
    "import math\n",
    "# from optimisation.python.models.conic_model import single_mosek\n",
    "# from optimisation.python.models.approximation_model import approx_model\n",
    "# from optimisation.python.utils import *"
   ]
  },
  {
   "cell_type": "code",
   "execution_count": null,
   "metadata": {},
   "outputs": [],
   "source": [
    "def healthprob(pool, pop):\n",
    "    \"\"\"Compute the probability that the test result of the given pool is negative (i.e., healthy).\"\"\"\n",
    "    healthprob = 1\n",
    "    for i in pool:\n",
    "        healthprob *= pop[i][0]\n",
    "    return healthprob"
   ]
  },
  {
   "cell_type": "code",
   "execution_count": null,
   "metadata": {},
   "outputs": [],
   "source": [
    "def utilsum(pool, pop):\n",
    "    \"\"\"Compute the sum of the utilities pool.\"\"\"\n",
    "    return sum([pop[i][1] for i in pool])"
   ]
  },
  {
   "cell_type": "code",
   "execution_count": null,
   "metadata": {},
   "outputs": [],
   "source": [
    "def welfare(pool, pop):\n",
    "    \"\"\"Compute the (expected) welfare of the given pool.\"\"\"\n",
    "    return healthprob(pool, pop)*utilsum(pool, pop)"
   ]
  },
  {
   "cell_type": "code",
   "execution_count": null,
   "metadata": {},
   "outputs": [],
   "source": [
    "def pop2vec(pop):\n",
    "    keylist = list(pop.keys())\n",
    "    q = [pop[k][0] for k in keylist]\n",
    "    u = [pop[k][1] for k in keylist]\n",
    "    return q, u, keylist"
   ]
  },
  {
   "cell_type": "code",
   "execution_count": null,
   "metadata": {},
   "outputs": [],
   "source": [
    "def solve_conic(pop, G):\n",
    "    \"\"\"Solves the optimal allocation of a single test of size at most G \n",
    "    using an exponential cone optimisation solver.\"\"\"\n",
    "    if not pop:\n",
    "        return 0, {}\n",
    "    q, u, keylist = pop2vec(pop)  # Get input vectors for model\n",
    "\n",
    "    w, x = single_mosek(q, u, G)\n",
    "    p = [[i+1 for i in range(len(q)) if x[i] == 1]]\n",
    "    pool = [[keylist[i-1] for i in pool] for pool in p][0]\n",
    "\n",
    "    w = welfare(pool, pop)\n",
    "    return w, pool"
   ]
  },
  {
   "cell_type": "code",
   "execution_count": 5,
   "metadata": {},
   "outputs": [],
   "source": [
    "def greedy(pop, T, G=N):\n",
    "\n",
    "    def remove_zeros(pop):\n",
    "        \"\"\"Remove people with zero (or negative) utilities from the population. Returns new population dict.\"\"\"\n",
    "        return {p: val for p, val in pop.items() if val[1] > 0}\n",
    "\n",
    "    \"\"\"\n",
    "    Provides a greedy, non-overlapping solution to the daily allocation problem for population `pop`.\n",
    "\n",
    "    The algorithm computes a greedy solution using as a subroutine an exponential cone optimisation \n",
    "    that estimates the optimal allocation of a single test.\n",
    "\n",
    "    Inputs\n",
    "    ------\n",
    "    pop::Dict - maps every person's ID to tuple (q,u) (health probabilities and utilities)\n",
    "    T::Int \t  - number of tests (test budget)\n",
    "    G::Int    - pooled test size\n",
    "\n",
    "    Output\n",
    "    ------\n",
    "    Dict - mapping from pool names (letters) to pools (integer arrays).\n",
    "    \"\"\"\n",
    "\n",
    "    if not pop:\n",
    "        return 0, {}\n",
    "    pop = remove_zeros(pop)\n",
    "    welfares, pools = [], []\n",
    "    for t in range(T):\n",
    "        w, pool = solve_conic(pop, G)\n",
    "        welfares.append(w) # record welfare\n",
    "        pools.append(pool) # record pool\n",
    "        # Remove people in pool from population\n",
    "        pop = {p: val for p, val in pop.items() if p not in pool}\n",
    "    named_pools = { chr(65+i) : pool for i, pool in enumerate(pools) }\n",
    "    return sum(welfares), named_pools"
   ]
  }
 ],
 "metadata": {
  "kernelspec": {
   "display_name": "Python 3",
   "language": "python",
   "name": "python3"
  },
  "language_info": {
   "codemirror_mode": {
    "name": "ipython",
    "version": 3
   },
   "file_extension": ".py",
   "mimetype": "text/x-python",
   "name": "python",
   "nbconvert_exporter": "python",
   "pygments_lexer": "ipython3",
   "version": "3.8.10"
  }
 },
 "nbformat": 4,
 "nbformat_minor": 2
}
