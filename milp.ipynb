{
 "cells": [
  {
   "cell_type": "code",
   "execution_count": 7,
   "metadata": {},
   "outputs": [],
   "source": [
    "from scipy.optimize import brentq \n",
    "from math import log, exp\n",
    "import numpy as np\n",
    "import gurobipy as gp\n",
    "from gurobipy import GRB"
   ]
  },
  {
   "cell_type": "code",
   "execution_count": 9,
   "metadata": {},
   "outputs": [],
   "source": [
    "G=5\n",
    "B= 3"
   ]
  },
  {
   "cell_type": "code",
   "execution_count": 14,
   "metadata": {},
   "outputs": [],
   "source": [
    "from collections import defaultdict"
   ]
  },
  {
   "cell_type": "code",
   "execution_count": 41,
   "metadata": {},
   "outputs": [],
   "source": [
    "def solveMILP(agents, G=G, B=B):\n",
    "\n",
    "    def approx_model(q, u, n, T=B, G=G, K=20):\n",
    "        \n",
    "        \"\"\"\n",
    "        Build cluster-based MILP model for Gurobi to solve. Finds an approximately\n",
    "        optimal testing allocation.\n",
    "        Inputs are three vectors indexed by cluster, as well as number of tests T\n",
    "        and pool size bound G, and accuracy parameter K.\n",
    "\n",
    "        q::Vector - avg. probability of being healthy for each cluster\n",
    "        u::Vector - utility for each cluster\n",
    "        n::Vector - size of each cluster\n",
    "        T::Int \t  - number of tests\n",
    "        G::Int    - pooled test size\n",
    "        K::Int \t  - number of segments of piecewise-linear fn approximating exp constraint\n",
    "        \"\"\"\n",
    "        # Verify that input is consistent\n",
    "        assert len(u) == len(q) == len(n), \"Input vectors have different lengths.\"\n",
    "        assert K >= 1, \"Number of segments for approximating exp must be at least 1.\"\n",
    "        assert T <= sum(n), \"Number of tests cannot exceed number of people in population.\"\n",
    "        assert all(isinstance(x, int) and x > 0 for x in u), \"Utilities must be strictly positive integers.\"\n",
    "        assert all(0 <= x <= 1 for x in q), \"Probabilities must (strictly) lie between 0 and 1.\"\n",
    "\n",
    "        # Compute some constants\n",
    "        C = len(n)  # number of clusters C\n",
    "        # Lower and upper bounds for z[t] = x[t]⋅u\n",
    "        L, U = min(u), G*max(u)\n",
    "        # print(f\"L: {L}, U: {U}\")\n",
    "        # Lower and upper bounds for l[t] = log(x[t]⋅u) + sum(x[t,i]*log(q[i])\n",
    "        A = min(log(x) for x in u) + G*min(log(x) for x in q)\n",
    "        B = log(G*max(u)) + max(log(x) for x in q)\n",
    "        # print(f\"A: {A}, B: {B}\")\n",
    "        tests = range(0, T)\n",
    "        clusters = range(0, C)\n",
    "        segments = range(0,K)\n",
    "\n",
    "        # Create model and set parameters\n",
    "        m = gp.Model('Test Allocation')\n",
    "        m.setParam('OutputFlag', 0)\n",
    "        # m.setParam(\"TimeLimit\", 600)\n",
    "        # m.setParam(\"Presolve\", -1)\n",
    "        m.setParam('MIPGap', 0.01)\n",
    "\n",
    "        # Define variables\n",
    "        x = m.addVars(tests, clusters, lb = 0, vtype = GRB.INTEGER, name='x')\n",
    "        w = m.addVars(tests, lb=0, name='w')\n",
    "        l = m.addVars(tests, lb=-GRB.INFINITY, name='l')\n",
    "        y = m.addVars(tests, lb=-GRB.INFINITY, name='y')\n",
    "        z = m.addVars(tests, lb=-GRB.INFINITY, name='z')\n",
    "        # variables for log constraint\n",
    "        zind = m.addVars(tests, range(L,U+1), vtype=GRB.BINARY, name='zind')\n",
    "        # variables for approximating exp constraint\n",
    "        lind = m.addVars(tests, segments, vtype=GRB.BINARY, name='lind')\n",
    "        v = m.addVars(tests, segments, lb=-GRB.INFINITY, name='v')\n",
    "\n",
    "        # Set objective\n",
    "        m.setObjective(sum(w[t] for t in tests), GRB.MAXIMIZE)\n",
    "\n",
    "        # Add constraints\n",
    "        m.addConstrs(sum(x[t,i] for t in tests) <= n[i] for i in clusters)  # tests must be disjoint\n",
    "        m.addConstrs(1 <= sum(x[t,i] for i in clusters) for t in tests)  # pool size >= 1\n",
    "        m.addConstrs(sum(x[t,i] for i in clusters) <= G for t in tests)  # pool size <= G\n",
    "\n",
    "        # Log welfare constraints: l[t] == log(u ̇x[t]) + x[t] ̇log.(q)\n",
    "        m.addConstrs(l[t] == y[t] + sum(x[t,i] * log(q[i]) for i in clusters) for t in tests)\n",
    "\n",
    "        # Constraints to ensure y[t] <= log(z[t])\n",
    "        m.addConstrs(z[t] == sum(x[t,i] * u[i] for i in clusters) for t in tests)  # utility sums\n",
    "        # Use indictator variables t capture value of z[t]:\n",
    "        # z[t] is an integer in [L, U], so let zind[t,k] = 1 if z[t] = k and 0 otherwise.\n",
    "        m.addConstrs(1==sum(zind[t,k] for k in range(L,U+1)) for t in tests)  # exactly one zind entry is 1\n",
    "        m.addConstrs(z[t] == sum(k*zind[t,k] for k in range(L,U+1)) for t in tests)\n",
    "        m.addConstrs(y[t] <= sum(log(k)*zind[t,k] for k in range(L,U+1)) for t in tests)\n",
    "\n",
    "        # Deal with w[t] = exp(l[t])\n",
    "        if abs(B-A) < 1e-10:\n",
    "            m.addConstrs(l[t] == A for t in tests)\n",
    "            m.addConstrs(w[t] == exp(A) for t in tests)\n",
    "        else:\n",
    "            # Approximate w[t] <= exp(l[t]) using piecewise-linear function f with K segments on domain [A,B]\n",
    "            c = optimal_partition(A, B, K)  # compute optimal segmentation of interval [A, B]\n",
    "            a, b, c = linearise(exp, c)  # compute piecewise-linear function f on domain [A, B] with segmentation c\n",
    "            # print(a, b, c)\n",
    "            # Use indicator variables `lind[t,k]` to capture in which segment the value of l[t] lies\n",
    "            # and let v[t,k] = l[t] if l[t] lies in (c[k], c[k+1]) and v[t,k] = 0 otherwise.\n",
    "            m.addConstrs(1 == sum(lind[t,k] for k in segments) for t in tests)\n",
    "            m.addConstrs(c[k]*lind[t,k] <= v[t,k] for t in tests for k in segments)\n",
    "            m.addConstrs(v[t,k] <= c[k+1]*lind[t,k] for t in tests for k in segments)\n",
    "            m.addConstrs(l[t] == sum(v[t,k] for k in segments) for t in tests)\n",
    "            # Ensure that w[t] <= f(l[t])\n",
    "            m.addConstrs(w[t] <= sum(a[k]*v[t,k] + b[k]*lind[t,k] for k in segments) for t in tests)\n",
    "\n",
    "        # Return model\n",
    "        return m, x\n",
    "    \n",
    "    def linearise(f, c):\n",
    "        \"\"\"\n",
    "        Compute the piecewise-linear representation of `f` with segments specified\n",
    "        in vector `c`.\n",
    "        \"\"\"\n",
    "        K = len(c)-1  # number of segments\n",
    "        a, b = np.zeros(K), np.zeros(K)\n",
    "        for k in range(0,K):\n",
    "            a[k] = (f(c[k+1]) - f(c[k])) / (c[k+1] - c[k])  # determine slope\n",
    "            b[k] = f(c[k+1]) - a[k]*c[k+1]  # determine residual\n",
    "        return a, b, c\n",
    "\n",
    "    def delta(l, r):\n",
    "        \"\"\"\n",
    "        Compute maximum difference between segment (l, exp(l)) to (r, exp(r))\n",
    "        and exp(x) on the interval [l,r].\n",
    "        \"\"\"\n",
    "        if r <= l: return 0.0\n",
    "        a = (exp(l) - exp(r)) / (l - r)\n",
    "        if a == 0: return 0.0  # happens if l and r are sufficiently similar\n",
    "        b = exp(r) - a*r\n",
    "        result = a * log(a) + b - a  # maximum difference, derived from first order conditions\n",
    "        return max(0, result)  # slight hack to avoid numerical inaccuracies\n",
    "\n",
    "    def partition(A, K, r1):\n",
    "        \"\"\"\n",
    "        Build a partition of K segments starting from A such that the\n",
    "        first segment is [A, A+r1] and all segments have the same error\n",
    "        ε identical to the error of the first segment.\n",
    "        \"\"\"\n",
    "        assert r1 >= 0\n",
    "        assert K > 0\n",
    "        c = [A]*(K+1)\n",
    "        if r1 == 0: return c\n",
    "        eps = delta(A, A + r1)  # error of the first segment [Lo, r1]\n",
    "        for k in range(0,K):\n",
    "            l = c[k]\n",
    "            # To define the bracket for the root finder, we make the reasonable\n",
    "            # assumption that the interval will be no larger than r1. (This can\n",
    "            # be proved easily, I believe).\n",
    "            r = brentq(lambda x : delta(l,x)-eps, l, l+r1+1)  # Finds r such that Δ(l,r) = ε.\n",
    "            c[k+1] = r\n",
    "        return c\n",
    "\n",
    "    def optimal_partition(A, B, K):\n",
    "        \"\"\"\n",
    "        Find the optimal partition of [A, B] into K segments. Proceeds by searching\n",
    "        for the right size for the first segment: the size `r1` is right when\n",
    "        `partition(A, K, r1)` ends (approximately) at `B`.\n",
    "        \"\"\"\n",
    "        assert A < B\n",
    "        first = brentq(lambda x : partition(A, K, x)[-1]-B, 0, B-A+1)\n",
    "        c = partition(A, K, first)\n",
    "        c[K] = B  # to clean things up a bit\n",
    "        return c\n",
    "\n",
    "    def compute_error(a,b,c):\n",
    "        \"\"\" Compute the maximum difference between the segments of the piecewise-linear function f(x) specified by a, b,\n",
    "        c and exp(x).\n",
    "\n",
    "        NB: For segment k, the difference is maximised at x = log(a[k]).\n",
    "        \"\"\"\n",
    "        ε = np.zeros(len(a))\n",
    "        for k in range(2,len(a)):\n",
    "            ε[k] = a[k]*np.log(a[k]) + b[k] - a[k]\n",
    "        return max(ε)\n",
    "\n",
    "    # u = [agent[1] for agent in agents]\n",
    "    # q = [agent[2] for agent in agents]\n",
    "    # n = [1] * len(agents)\n",
    "    # m, x = approx_model(q, u, n, T=B, G=G)\n",
    "    # m.optimize()\n",
    "\n",
    "    # Group agents by (utility, health) and count them\n",
    "    grouped_agents = defaultdict(lambda: 0)  # Dictionary to store count\n",
    "    \n",
    "    for agent in agents:\n",
    "        key = (agent[1], agent[2])  # (utility, health)\n",
    "        grouped_agents[key] += 1  # Increment the count of agents in this group\n",
    "\n",
    "    u = []\n",
    "    q = []\n",
    "    n = []\n",
    "\n",
    "    # Extract the grouped data\n",
    "    for (utility, health), count in grouped_agents.items():\n",
    "        u.append(utility)\n",
    "        q.append(health)\n",
    "        n.append(count)\n",
    "\n",
    "    # Initialize an empty list to store the strategy\n",
    "\n",
    "    strategy = []\n",
    "\n",
    "    m, x = approx_model(q, u, n, T=B, G=G)\n",
    "    m.optimize()\n",
    "\n",
    "    # Loop over each test\n",
    "    for test in range(B):\n",
    "        # Collect the agents assigned to this test\n",
    "        agents_assigned = []\n",
    "        \n",
    "        for cluster in range(len(u)):\n",
    "            if x[test, cluster].X > 0:  # Only include agents assigned to this test\n",
    "                # Append (u[cluster], q[cluster], n[cluster]) x[test, cluster].X times\n",
    "                agents_assigned.extend([(cluster, u[cluster], q[cluster])] * int(x[test, cluster].X))\n",
    "\n",
    "        strategy.append(tuple(agents_assigned))\n",
    "\n",
    "    # Convert the strategy list to a tuple of tuples\n",
    "    strategy = tuple(strategy)\n",
    "\n",
    "    utility = m.objVal\n",
    "\n",
    "    return strategy, utility\n",
    "        "
   ]
  },
  {
   "cell_type": "code",
   "execution_count": 2,
   "metadata": {},
   "outputs": [],
   "source": [
    "import random"
   ]
  },
  {
   "cell_type": "code",
   "execution_count": 37,
   "metadata": {},
   "outputs": [
    {
     "name": "stdout",
     "output_type": "stream",
     "text": [
      "{(0, 0): <gurobi.Var x[0,0] (value 1.0)>, (1, 0): <gurobi.Var x[1,0] (value 1.0)>}\n"
     ]
    }
   ],
   "source": [
    "agents = [(0, 1, 0.5), (1, 1, 0.5), (2, 1, 0.5)]\n",
    "staticStrategy, staticUtility = solveMILP(agents, B=2, G=3)"
   ]
  },
  {
   "cell_type": "code",
   "execution_count": 38,
   "metadata": {},
   "outputs": [
    {
     "name": "stdout",
     "output_type": "stream",
     "text": [
      "(((0, 1, 0.5),), ((0, 1, 0.5),))\n"
     ]
    }
   ],
   "source": [
    "print(staticStrategy)"
   ]
  },
  {
   "cell_type": "code",
   "execution_count": 39,
   "metadata": {},
   "outputs": [
    {
     "name": "stdout",
     "output_type": "stream",
     "text": [
      "1.000789780671421\n"
     ]
    }
   ],
   "source": [
    "print(staticUtility)"
   ]
  },
  {
   "cell_type": "code",
   "execution_count": 18,
   "metadata": {},
   "outputs": [
    {
     "name": "stdout",
     "output_type": "stream",
     "text": [
      "{(0, 0): <gurobi.Var x[0,0] (value 1.0)>, (0, 1): <gurobi.Var x[0,1] (value 0.0)>, (1, 0): <gurobi.Var x[1,0] (value 0.0)>, (1, 1): <gurobi.Var x[1,1] (value 1.0)>}\n"
     ]
    }
   ],
   "source": [
    "print(x)"
   ]
  },
  {
   "cell_type": "code",
   "execution_count": 2,
   "metadata": {},
   "outputs": [],
   "source": [
    "T=2"
   ]
  },
  {
   "cell_type": "code",
   "execution_count": 3,
   "metadata": {},
   "outputs": [
    {
     "ename": "NameError",
     "evalue": "name 'q' is not defined",
     "output_type": "error",
     "traceback": [
      "\u001b[0;31m---------------------------------------------------------------------------\u001b[0m",
      "\u001b[0;31mNameError\u001b[0m                                 Traceback (most recent call last)",
      "Input \u001b[0;32mIn [3]\u001b[0m, in \u001b[0;36m<cell line: 2>\u001b[0;34m()\u001b[0m\n\u001b[1;32m      1\u001b[0m \u001b[38;5;66;03m# Extract the values of the decision variables x\u001b[39;00m\n\u001b[1;32m      2\u001b[0m \u001b[38;5;28;01mfor\u001b[39;00m t \u001b[38;5;129;01min\u001b[39;00m \u001b[38;5;28mrange\u001b[39m(T):\n\u001b[0;32m----> 3\u001b[0m     \u001b[38;5;28;01mfor\u001b[39;00m i \u001b[38;5;129;01min\u001b[39;00m \u001b[38;5;28mrange\u001b[39m(\u001b[38;5;28mlen\u001b[39m(\u001b[43mq\u001b[49m)):  \u001b[38;5;66;03m# Since `x` is a dict indexed by (test, cluster), loop over these\u001b[39;00m\n\u001b[1;32m      4\u001b[0m         \u001b[38;5;28;01mif\u001b[39;00m x[t, i]\u001b[38;5;241m.\u001b[39mX \u001b[38;5;241m>\u001b[39m \u001b[38;5;241m0\u001b[39m:  \u001b[38;5;66;03m# Only print non-zero values\u001b[39;00m\n\u001b[1;32m      5\u001b[0m             \u001b[38;5;28mprint\u001b[39m(\u001b[38;5;124mf\u001b[39m\u001b[38;5;124m\"\u001b[39m\u001b[38;5;124mx[\u001b[39m\u001b[38;5;132;01m{\u001b[39;00mt\u001b[38;5;132;01m}\u001b[39;00m\u001b[38;5;124m,\u001b[39m\u001b[38;5;132;01m{\u001b[39;00mi\u001b[38;5;132;01m}\u001b[39;00m\u001b[38;5;124m] = \u001b[39m\u001b[38;5;132;01m{\u001b[39;00mx[t, i]\u001b[38;5;241m.\u001b[39mX\u001b[38;5;132;01m}\u001b[39;00m\u001b[38;5;124m\"\u001b[39m)\n",
      "\u001b[0;31mNameError\u001b[0m: name 'q' is not defined"
     ]
    }
   ],
   "source": [
    "# Extract the values of the decision variables x\n",
    "for t in range(T):\n",
    "    for i in range(len(q)):  # Since `x` is a dict indexed by (test, cluster), loop over these\n",
    "        if x[t, i].X > 0:  # Only print non-zero values\n",
    "            print(f\"x[{t},{i}] = {x[t, i].X}\")\n",
    "\n",
    "# Optionally, you can also print the objective value\n",
    "print(f\"Objective value: {m.objVal}\")"
   ]
  }
 ],
 "metadata": {
  "kernelspec": {
   "display_name": "Python 3",
   "language": "python",
   "name": "python3"
  },
  "language_info": {
   "codemirror_mode": {
    "name": "ipython",
    "version": 3
   },
   "file_extension": ".py",
   "mimetype": "text/x-python",
   "name": "python",
   "nbconvert_exporter": "python",
   "pygments_lexer": "ipython3",
   "version": "3.8.10"
  }
 },
 "nbformat": 4,
 "nbformat_minor": 2
}
